{
 "cells": [
  {
   "cell_type": "code",
   "execution_count": 16,
   "id": "09883ab4-0063-4705-92b8-5f05e3df64c5",
   "metadata": {},
   "outputs": [
    {
     "name": "stdout",
     "output_type": "stream",
     "text": [
      "<class 'pandas.core.frame.DataFrame'>\n",
      "RangeIndex: 15509 entries, 0 to 15508\n",
      "Data columns (total 10 columns):\n",
      " #   Column    Non-Null Count  Dtype  \n",
      "---  ------    --------------  -----  \n",
      " 0   Name      15509 non-null  object \n",
      " 1   Year      14981 non-null  object \n",
      " 2   Duration  7240 non-null   object \n",
      " 3   Genre     13632 non-null  object \n",
      " 4   Rating    7919 non-null   float64\n",
      " 5   Votes     7920 non-null   object \n",
      " 6   Director  14984 non-null  object \n",
      " 7   Actor 1   13892 non-null  object \n",
      " 8   Actor 2   13125 non-null  object \n",
      " 9   Actor 3   12365 non-null  object \n",
      "dtypes: float64(1), object(9)\n",
      "memory usage: 1.2+ MB\n",
      "None\n",
      "            Rating\n",
      "count  7919.000000\n",
      "mean      5.841621\n",
      "std       1.381777\n",
      "min       1.100000\n",
      "25%       4.900000\n",
      "50%       6.000000\n",
      "75%       6.800000\n",
      "max      10.000000\n",
      "                                 Name    Year Duration            Genre  \\\n",
      "0                                         NaN      NaN            Drama   \n",
      "1  #Gadhvi (He thought he was Gandhi)  (2019)  109 min            Drama   \n",
      "2                         #Homecoming  (2021)   90 min   Drama, Musical   \n",
      "3                             #Yaaram  (2019)  110 min  Comedy, Romance   \n",
      "4                   ...And Once Again  (2010)  105 min            Drama   \n",
      "\n",
      "   Rating Votes            Director       Actor 1             Actor 2  \\\n",
      "0     NaN   NaN       J.S. Randhawa      Manmauji              Birbal   \n",
      "1     7.0     8       Gaurav Bakshi  Rasika Dugal      Vivek Ghamande   \n",
      "2     NaN   NaN  Soumyajit Majumdar  Sayani Gupta   Plabita Borthakur   \n",
      "3     4.4    35          Ovais Khan       Prateik          Ishita Raj   \n",
      "4     NaN   NaN        Amol Palekar  Rajat Kapoor  Rituparna Sengupta   \n",
      "\n",
      "           Actor 3  \n",
      "0  Rajendra Bhatia  \n",
      "1    Arvind Jangid  \n",
      "2       Roy Angana  \n",
      "3  Siddhant Kapoor  \n",
      "4      Antara Mali  \n"
     ]
    }
   ],
   "source": [
    "import pandas as pd\n",
    "import numpy as np\n",
    "\n",
    "# Load the dataset\n",
    "data = pd.read_csv('IMDb Movies India.csv', encoding='latin1')  \n",
    "\n",
    "print(data.info())\n",
    "print(data.describe())\n",
    "print(data.head())\n"
   ]
  },
  {
   "cell_type": "code",
   "execution_count": 20,
   "id": "ec95df22-ba53-43c0-85ce-efa38025da37",
   "metadata": {},
   "outputs": [
    {
     "name": "stdout",
     "output_type": "stream",
     "text": [
      "Name           0\n",
      "Year         528\n",
      "Duration    8269\n",
      "Genre       1877\n",
      "Rating      7590\n",
      "Votes       7589\n",
      "Director     525\n",
      "Actor 1     1617\n",
      "Actor 2     2384\n",
      "Actor 3     3144\n",
      "dtype: int64\n"
     ]
    }
   ],
   "source": [
    "# Check for missing values\n",
    "print(data.isnull().sum())\n",
    "data.dropna(subset=['Rating'], inplace=True)\n"
   ]
  },
  {
   "cell_type": "code",
   "execution_count": 22,
   "id": "9c7f0210-ad79-49b6-9f7e-02dc68320271",
   "metadata": {},
   "outputs": [],
   "source": [
    "director_rating = data.groupby('Director')['Rating'].mean()\n",
    "data['Director_Success_Rate'] = data['Director'].map(director_rating)\n",
    "\n",
    "genre_rating = data.groupby('Genre')['Rating'].mean()\n",
    "data['Genre_Average_Rating'] = data['Genre'].map(genre_rating)\n"
   ]
  },
  {
   "cell_type": "code",
   "execution_count": 24,
   "id": "9b997ffa-0156-4eda-b597-dc72751ab29e",
   "metadata": {},
   "outputs": [],
   "source": [
    "# One-hot encoding for categorical variables\n",
    "data = pd.get_dummies(data, columns=['Genre', 'Director', 'Actor 1', 'Actor 2', 'Actor 3'], drop_first=True)\n"
   ]
  },
  {
   "cell_type": "code",
   "execution_count": 32,
   "id": "07acc469-8255-4f39-a674-c8e6fbb514bb",
   "metadata": {},
   "outputs": [
    {
     "name": "stdout",
     "output_type": "stream",
     "text": [
      "      Votes  Duration\n",
      "1 -0.166400 -0.877264\n",
      "3 -0.164073 -0.839604\n",
      "5 -0.095807  0.553806\n",
      "6 -0.073482  0.365507\n",
      "8 -0.138990 -1.894077\n"
     ]
    }
   ],
   "source": [
    "from sklearn.preprocessing import StandardScaler\n",
    "\n",
    "# Ensure 'Votes' column is treated as string and handle missing values\n",
    "data['Votes'] = data['Votes'].astype(str).str.replace(',', '').replace('nan', '0').astype(float)\n",
    "\n",
    "# Clean 'Duration' column to extract numeric values (e.g., '109 min' -> 109)\n",
    "data['Duration'] = data['Duration'].str.replace(' min', '').replace('nan', '0').astype(float)\n",
    "\n",
    "# Scale numerical features\n",
    "scaler = StandardScaler()\n",
    "data[['Votes', 'Duration']] = scaler.fit_transform(data[['Votes', 'Duration']])\n",
    "\n",
    "# Display transformed data\n",
    "print(data[['Votes', 'Duration']].head())\n"
   ]
  },
  {
   "cell_type": "code",
   "execution_count": 46,
   "id": "f66e2e21-7616-45e1-8247-1f53638c6a75",
   "metadata": {},
   "outputs": [
    {
     "name": "stdout",
     "output_type": "stream",
     "text": [
      "                                                    Name    Year  Duration  \\\n",
      "8157   Last Chance: The Moment I Finally Embraced the...  (2019) -2.195355   \n",
      "8455                                    Maan Gaye Ustaad  (1981)       NaN   \n",
      "14490                                          Tubelight  (2017)  0.139549   \n",
      "2697                                           Chaalbaaz  (2003) -0.575986   \n",
      "15470                                   Zindagi Ek Safar  (1988) -0.463007   \n",
      "\n",
      "          Votes  Director_Success_Rate  Genre_Average_Rating  \\\n",
      "8157  -0.166228               8.150000              5.926360   \n",
      "8455  -0.165710               5.175758              6.352082   \n",
      "14490  1.364929               6.133333              6.150000   \n",
      "2697  -0.165624               4.250000              5.092566   \n",
      "15470 -0.164245               7.900000              8.050000   \n",
      "\n",
      "       Genre_Action, Adventure  Genre_Action, Adventure, Biography  \\\n",
      "8157                     False                               False   \n",
      "8455                     False                               False   \n",
      "14490                    False                               False   \n",
      "2697                     False                               False   \n",
      "15470                    False                               False   \n",
      "\n",
      "       Genre_Action, Adventure, Comedy  Genre_Action, Adventure, Crime  ...  \\\n",
      "8157                             False                           False  ...   \n",
      "8455                             False                           False  ...   \n",
      "14490                            False                           False  ...   \n",
      "2697                             False                           False  ...   \n",
      "15470                            False                           False  ...   \n",
      "\n",
      "       Actor 3_Zarine Ali  Actor 3_Zayed Khan  Actor 3_Zebunissa  \\\n",
      "8157                False               False              False   \n",
      "8455                False               False              False   \n",
      "14490               False               False              False   \n",
      "2697                False               False              False   \n",
      "15470               False               False              False   \n",
      "\n",
      "       Actor 3_Zeenat Aman  Actor 3_Zeeshan Khan  Actor 3_Zeishan Quadri  \\\n",
      "8157                 False                 False                   False   \n",
      "8455                 False                 False                   False   \n",
      "14490                False                 False                   False   \n",
      "2697                 False                 False                   False   \n",
      "15470                False                 False                   False   \n",
      "\n",
      "       Actor 3_Zenobia Shroff  Actor 3_Zohra  Actor 3_Zoya Hussain  \\\n",
      "8157                    False          False                 False   \n",
      "8455                    False          False                 False   \n",
      "14490                   False          False                 False   \n",
      "2697                    False          False                 False   \n",
      "15470                   False          False                 False   \n",
      "\n",
      "       Actor 3_Zulfi Sayed  \n",
      "8157                 False  \n",
      "8455                 False  \n",
      "14490                False  \n",
      "2697                 False  \n",
      "15470                False  \n",
      "\n",
      "[5 rows x 12060 columns]\n",
      "Index(['Duration', 'Votes', 'Director_Success_Rate', 'Genre_Average_Rating'], dtype='object')\n"
     ]
    }
   ],
   "source": [
    "# Split the Data\n",
    "from sklearn.model_selection import train_test_split\n",
    "X = data.drop('Rating', axis=1)\n",
    "y = data['Rating']\n",
    "\n",
    "X_train, X_test, y_train, y_test = train_test_split(X, y, test_size=0.2, random_state=42)\n",
    "print(X_train.head())\n",
    "\n",
    "X_train = X_train.select_dtypes(include=['number'])\n",
    "X_test = X_test.select_dtypes(include=['number'])\n",
    "\n",
    "print(X_train.columns)\n"
   ]
  },
  {
   "cell_type": "code",
   "execution_count": 50,
   "id": "59ca126b-bb94-4bdc-b715-1b4c36409456",
   "metadata": {},
   "outputs": [
    {
     "name": "stdout",
     "output_type": "stream",
     "text": [
      "Index(['Name', 'Year', 'Duration', 'Rating', 'Votes', 'Director_Success_Rate',\n",
      "       'Genre_Average_Rating', 'Genre_Action, Adventure',\n",
      "       'Genre_Action, Adventure, Biography', 'Genre_Action, Adventure, Comedy',\n",
      "       ...\n",
      "       'Actor 3_Zarine Ali', 'Actor 3_Zayed Khan', 'Actor 3_Zebunissa',\n",
      "       'Actor 3_Zeenat Aman', 'Actor 3_Zeeshan Khan', 'Actor 3_Zeishan Quadri',\n",
      "       'Actor 3_Zenobia Shroff', 'Actor 3_Zohra', 'Actor 3_Zoya Hussain',\n",
      "       'Actor 3_Zulfi Sayed'],\n",
      "      dtype='object', length=12061)\n"
     ]
    }
   ],
   "source": [
    "print(data.columns)\n",
    "# Select specific columns based on your dataset\n",
    "X_train = data[['Votes', 'Duration', 'Director_Success_Rate', 'Genre_Average_Rating']]\n"
   ]
  },
  {
   "cell_type": "code",
   "execution_count": 76,
   "id": "5d4e0b54-4bfa-4578-98ef-011887ddc298",
   "metadata": {},
   "outputs": [
    {
     "name": "stdout",
     "output_type": "stream",
     "text": [
      "Initial X_train shape: (6335, 4)\n",
      "Initial y_train shape: (6335,)\n",
      "Training columns: Index(['Votes', 'Duration', 'Director_Success_Rate', 'Genre_Average_Rating'], dtype='object')\n",
      "Testing columns: Index(['Votes', 'Duration', 'Director_Success_Rate', 'Genre_Average_Rating'], dtype='object')\n",
      "Model training complete!\n"
     ]
    }
   ],
   "source": [
    "import pandas as pd\n",
    "from sklearn.ensemble import RandomForestRegressor\n",
    "from sklearn.preprocessing import StandardScaler\n",
    "\n",
    "# Assuming X_train and y_train are already defined\n",
    "print(\"Initial X_train shape:\", X_train.shape)\n",
    "print(\"Initial y_train shape:\", y_train.shape)\n",
    "\n",
    "# Align X_train and y_train\n",
    "X_train, y_train = X_train.align(y_train, join='inner', axis=0)\n",
    "\n",
    "# Handle missing values in X_train (if any)\n",
    "X_train.fillna(0, inplace=True)\n",
    "\n",
    "# Scale numerical features (if needed)\n",
    "scaler = StandardScaler()\n",
    "X_train_scaled = pd.DataFrame(scaler.fit_transform(X_train), columns=X_train.columns)\n",
    "X_test_scaled = pd.DataFrame(scaler.fit_transform(X_test), columns=X_test.columns)\n",
    "# Align columns between training and testing sets\n",
    "X_train_scaled, X_test_scaled = X_train_scaled.align(X_test_scaled, join='inner', axis=1)\n",
    "\n",
    "print(\"Training columns:\", X_train_scaled.columns)\n",
    "print(\"Testing columns:\", X_test_scaled.columns)\n",
    "\n",
    "# Train the model\n",
    "model = RandomForestRegressor(random_state=42)\n",
    "model.fit(X_train_scaled, y_train)\n",
    "\n",
    "print(\"Model training complete!\")\n",
    "\n"
   ]
  },
  {
   "cell_type": "code",
   "execution_count": 80,
   "id": "73fa8716-2a17-4b18-8aa8-2fd9e82ac76f",
   "metadata": {},
   "outputs": [
    {
     "name": "stdout",
     "output_type": "stream",
     "text": [
      "RMSE: 0.8506676841069792\n",
      "R2 Score: 0.6107697602706603\n",
      "Accuracy: 57.765151515151516%\n"
     ]
    },
    {
     "data": {
      "image/png": "[encoded data removed]",
      "text/plain": [
       "<Figure size 800x500 with 1 Axes>"
      ]
     },
     "metadata": {},
     "output_type": "display_data"
    }
   ],
   "source": [
    "import pandas as pd\n",
    "from sklearn.preprocessing import StandardScaler\n",
    "from sklearn.ensemble import RandomForestRegressor\n",
    "from sklearn.metrics import mean_squared_error, r2_score\n",
    "import matplotlib.pyplot as plt\n",
    "import numpy as np\n",
    "\n",
    "# Assume X_train, X_test, y_train, and y_test are already defined.\n",
    "# Make sure they are aligned (i.e., the same features in the same order)\n",
    "# For example, if X_train was created from a subset of columns:\n",
    "# X_train = data[['Votes', 'Duration', 'Director_Success_Rate', 'Genre_Average_Rating']]\n",
    "# y_train = data['Rating']\n",
    "#\n",
    "# And similarly for X_test.\n",
    "\n",
    "# Reindex X_test to ensure it has the same columns (and order) as X_train\n",
    "X_test_aligned = X_test.reindex(columns=X_train.columns)\n",
    "\n",
    "# Scale numerical features using StandardScaler\n",
    "scaler = StandardScaler()\n",
    "X_train_scaled = pd.DataFrame(scaler.fit_transform(X_train), columns=X_train.columns)\n",
    "# IMPORTANT: Transform X_test_aligned (which now has exactly the same feature names/order as X_train)\n",
    "X_test_scaled = pd.DataFrame(scaler.transform(X_test_aligned), columns=X_train.columns)\n",
    "\n",
    "# Train the Random Forest Regressor\n",
    "model = RandomForestRegressor(random_state=42)\n",
    "model.fit(X_train_scaled, y_train)\n",
    "\n",
    "# Predict on the test set\n",
    "y_pred = model.predict(X_test_scaled)\n",
    "\n",
    "# Evaluate the model\n",
    "rmse = np.sqrt(mean_squared_error(y_test, y_pred))\n",
    "r2 = r2_score(y_test, y_pred)\n",
    "\n",
    "# For regression, we can define a custom \"accuracy\" metric;\n",
    "# Here we use the percentage of predictions within a ±0.5 margin of the actual value\n",
    "accuracy = np.mean(np.abs(y_test - y_pred) <= 0.5) * 100\n",
    "\n",
    "# Print evaluation metrics\n",
    "print(f\"RMSE: {rmse}\")\n",
    "print(f\"R2 Score: {r2}\")\n",
    "print(f\"Accuracy: {accuracy}%\")\n",
    "\n",
    "# Visualize metrics using a bar chart\n",
    "metrics = {'RMSE': rmse, 'R2 Score': r2, 'Accuracy (%)': accuracy}\n",
    "names = list(metrics.keys())\n",
    "values = list(metrics.values())\n",
    "\n",
    "plt.figure(figsize=(8, 5))\n",
    "bars = plt.bar(names, values, color=['blue', 'green', 'orange'])\n",
    "plt.title(\"Model Performance Metrics\", fontsize=14)\n",
    "plt.ylabel(\"Metric Values\", fontsize=12)\n",
    "for bar in bars:\n",
    "    plt.text(bar.get_x() + bar.get_width() / 2, bar.get_height(),\n",
    "             f'{bar.get_height():.2f}', ha='center', va='bottom', fontsize=10)\n",
    "plt.ylim(0, max(values) + 10)  # Add some space above the bars\n",
    "plt.show()\n"
   ]
  },
  {
   "cell_type": "code",
   "execution_count": null,
   "id": "909dfbb7-e008-4dd0-971e-c749916f937f",
   "metadata": {},
   "outputs": [],
   "source": []
  }
 ],
 "metadata": {
  "kernelspec": {
   "display_name": "Python 3 (ipykernel)",
   "language": "python",
   "name": "python3"
  },
  "language_info": {
   "codemirror_mode": {
    "name": "ipython",
    "version": 3
   },
   "file_extension": ".py",
   "mimetype": "text/x-python",
   "name": "python",
   "nbconvert_exporter": "python",
   "pygments_lexer": "ipython3",
   "version": "3.12.7"
  }
 },
 "nbformat": 4,
 "nbformat_minor": 5
}
